{
 "cells": [
  {
   "cell_type": "markdown",
   "id": "25d7736c-ba17-4aff-b6bb-66eba20fbf4e",
   "metadata": {},
   "source": [
    "# Lab | Functions"
   ]
  },
  {
   "cell_type": "markdown",
   "id": "0c581062-8967-4d93-b06e-62833222f930",
   "metadata": {
    "tags": []
   },
   "source": [
    "## Exercise: Managing Customer Orders with Functions\n",
    "\n",
    "In the previous exercise, you improved the code for managing customer orders by using loops and flow control. Now, let's take it a step further and refactor the code by introducing functions.\n",
    "\n",
    "Follow the steps below to complete the exercise:\n",
    "\n",
    "1. Define a function named `initialize_inventory` that takes `products` as a parameter. Inside the function, implement the code for initializing the inventory dictionary using a loop and user input.\n",
    "\n",
    "2. Define a function named `get_customer_orders` that takes no parameters. Inside the function, implement the code for prompting the user to enter the product names using a loop. The function should return the `customer_orders` set.\n",
    "\n",
    "3. Define a function named `update_inventory` that takes `customer_orders` and `inventory` as parameters. Inside the function, implement the code for updating the inventory dictionary based on the customer orders.\n",
    "\n",
    "4. Define a function named `calculate_order_statistics` that takes `customer_orders` and `products` as parameters. Inside the function, implement the code for calculating the order statistics (total products ordered, and percentage of unique products ordered). The function should return these values.\n",
    "\n",
    "5. Define a function named `print_order_statistics` that takes `order_statistics` as a parameter. Inside the function, implement the code for printing the order statistics.\n",
    "\n",
    "6. Define a function named `print_updated_inventory` that takes `inventory` as a parameter. Inside the function, implement the code for printing the updated inventory.\n",
    "\n",
    "7. Call the functions in the appropriate sequence to execute the program and manage customer orders.\n",
    "\n",
    "Hints for functions:\n",
    "\n",
    "- Consider the input parameters required for each function and their return values.\n",
    "- Utilize function parameters and return values to transfer data between functions.\n",
    "- Test your functions individually to ensure they work correctly.\n",
    "\n",
    "\n"
   ]
  },
  {
   "cell_type": "code",
   "execution_count": 13,
   "id": "84956260-2f7f-4d1b-8166-7a5314ce0fb3",
   "metadata": {
    "tags": []
   },
   "outputs": [],
   "source": [
    "products = list()\n",
    "inventory = {}"
   ]
  },
  {
   "cell_type": "code",
   "execution_count": null,
   "id": "6d458fc9-187d-4844-9e3d-f2950f0f5689",
   "metadata": {},
   "outputs": [],
   "source": []
  },
  {
   "cell_type": "code",
   "execution_count": 15,
   "id": "7086f448-abbe-4a86-80fd-c6df0095558d",
   "metadata": {
    "tags": []
   },
   "outputs": [],
   "source": [
    "def initialize_inventory(products):\n",
    "    inventory = dict.fromkeys(products, \"v\")\n",
    "    for prod in inventory:\n",
    "        inventory[prod] = int(input(f\"How many {prod}s do we have?\"))\n",
    "    return inventory"
   ]
  },
  {
   "cell_type": "code",
   "execution_count": 17,
   "id": "d0e25597-043a-4fd2-b26a-20e672d550e6",
   "metadata": {
    "tags": []
   },
   "outputs": [
    {
     "name": "stdin",
     "output_type": "stream",
     "text": [
      "How many hats do we have? 5\n",
      "How many mugs do we have? 6\n",
      "How many keychains do we have? 7\n",
      "How many t-shirts do we have? 8\n",
      "How many books do we have? 9\n"
     ]
    }
   ],
   "source": [
    "inventory = initialize_inventory(['hat', 'mug', 'keychain', 't-shirt', 'book'])"
   ]
  },
  {
   "cell_type": "code",
   "execution_count": 19,
   "id": "bf53f7f3-02ca-4c78-9cf6-3687be078c51",
   "metadata": {
    "tags": []
   },
   "outputs": [
    {
     "data": {
      "text/plain": [
       "{'hat': 5, 'mug': 6, 'keychain': 7, 't-shirt': 8, 'book': 9}"
      ]
     },
     "execution_count": 19,
     "metadata": {},
     "output_type": "execute_result"
    }
   ],
   "source": [
    "inventory"
   ]
  },
  {
   "cell_type": "code",
   "execution_count": 21,
   "id": "f7255754-d467-4c14-a551-238f7c07a9ba",
   "metadata": {
    "tags": []
   },
   "outputs": [],
   "source": [
    "def get_customer_orders():\n",
    "    user_go = False\n",
    "    customer_orders = set()\n",
    "    \n",
    "    while user_go == False:\n",
    "        prod = input(\"Which product would you like to order?\")\n",
    "        if prod in inventory.keys():\n",
    "            customer_orders.add(prod)\n",
    "        else:\n",
    "            print(\"I'm sorry, we don't stock that product\")\n",
    "        user_answer = input(\"Would you like to order another product? Yes/No\")\n",
    "        user_answer_lower = user_answer.lower()\n",
    "        answer_good = False\n",
    "        \n",
    "        while answer_good == False:\n",
    "            user_answer_lower = user_answer.lower()\n",
    "            if user_answer_lower == \"yes\" or user_answer_lower == \"no\":\n",
    "                answer_good = True\n",
    "                break\n",
    "            else:\n",
    "                user_answer = input(\"Please enter yes or no! Would you like to order another product?\")\n",
    "        \n",
    "        if user_answer_lower == \"no\":\n",
    "            user_go = True\n",
    "        else:\n",
    "            user_go = False\n",
    "    return customer_orders"
   ]
  },
  {
   "cell_type": "code",
   "execution_count": 23,
   "id": "877a906e-46ef-484e-a8d1-d2e2671fe46b",
   "metadata": {
    "tags": []
   },
   "outputs": [
    {
     "name": "stdin",
     "output_type": "stream",
     "text": [
      "Which product would you like to order? mug\n",
      "Would you like to order another product? Yes/No yes\n",
      "Which product would you like to order? book\n",
      "Would you like to order another product? Yes/No yes\n",
      "Which product would you like to order? keychain\n",
      "Would you like to order another product? Yes/No no\n"
     ]
    }
   ],
   "source": [
    "customer_orders = get_customer_orders()"
   ]
  },
  {
   "cell_type": "code",
   "execution_count": 25,
   "id": "62a1c07b-7ad7-4535-929c-ec4eaf61cdb9",
   "metadata": {
    "tags": []
   },
   "outputs": [
    {
     "data": {
      "text/plain": [
       "{'book', 'keychain', 'mug'}"
      ]
     },
     "execution_count": 25,
     "metadata": {},
     "output_type": "execute_result"
    }
   ],
   "source": [
    "customer_orders"
   ]
  },
  {
   "cell_type": "code",
   "execution_count": 29,
   "id": "791474b6-8415-419d-ab9a-f5a8528e69cf",
   "metadata": {},
   "outputs": [],
   "source": [
    "def update_inventory(customer_orders, inventory):\n",
    "    for product in customer_orders:\n",
    "        inventory[product] = inventory[product] - 1\n",
    "    return inventory"
   ]
  },
  {
   "cell_type": "code",
   "execution_count": 32,
   "id": "ae7e9597-b47d-4d6f-a75e-83f46a143dc9",
   "metadata": {
    "tags": []
   },
   "outputs": [
    {
     "data": {
      "text/plain": [
       "3"
      ]
     },
     "execution_count": 32,
     "metadata": {},
     "output_type": "execute_result"
    }
   ],
   "source": [
    "inventory['mug']"
   ]
  },
  {
   "cell_type": "code",
   "execution_count": 31,
   "id": "dd315705-38c6-4877-9714-eebbd99ddbfe",
   "metadata": {
    "tags": []
   },
   "outputs": [],
   "source": [
    "new_inventory = update_inventory(customer_orders, inventory)"
   ]
  },
  {
   "cell_type": "code",
   "execution_count": 33,
   "id": "949859ff-bbb6-4ab2-ac15-9e2c6e32a6ae",
   "metadata": {
    "tags": []
   },
   "outputs": [
    {
     "data": {
      "text/plain": [
       "{'hat': 5, 'mug': 5, 'keychain': 6, 't-shirt': 8, 'book': 8}"
      ]
     },
     "execution_count": 33,
     "metadata": {},
     "output_type": "execute_result"
    }
   ],
   "source": [
    "inventory"
   ]
  },
  {
   "cell_type": "code",
   "execution_count": 56,
   "id": "02d28c33-f3bd-4535-aa88-63201c70f675",
   "metadata": {
    "tags": []
   },
   "outputs": [
    {
     "data": {
      "text/plain": [
       "{'hat': 4, 'mug': 1, 'keychain': 3, 't-shirt': 7, 'book': 12}"
      ]
     },
     "execution_count": 56,
     "metadata": {},
     "output_type": "execute_result"
    }
   ],
   "source": [
    "new_inventory"
   ]
  },
  {
   "cell_type": "code",
   "execution_count": 143,
   "id": "b94abfd0-769d-4fc8-99d4-0c052d768d08",
   "metadata": {},
   "outputs": [],
   "source": [
    "def calculate_order_statistics(customer_orders, total_products):\n",
    "    total_products_ordered = len(customer_orders)\n",
    "    total_products = sum(inventory.values())\n",
    "    pc_products_ordered = round(((total_products_ordered/total_products)*100),2)\n",
    "    return {\"Total products ordered\" : total_products_ordered, \"Percentage of products ordered\" : pc_products_ordered}"
   ]
  },
  {
   "cell_type": "code",
   "execution_count": 85,
   "id": "818c0bc5-6ced-4f1f-8743-7e03590f6183",
   "metadata": {
    "tags": []
   },
   "outputs": [],
   "source": [
    "total_products = sum(inventory.values())"
   ]
  },
  {
   "cell_type": "code",
   "execution_count": 109,
   "id": "e458f963-d0d3-484f-bc27-0d07da076370",
   "metadata": {
    "tags": []
   },
   "outputs": [],
   "source": [
    "order_statistics = calculate_order_statistics(customer_orders, total_products)"
   ]
  },
  {
   "cell_type": "code",
   "execution_count": 121,
   "id": "217601c7-d517-463e-8b20-416251d2a959",
   "metadata": {
    "tags": []
   },
   "outputs": [],
   "source": [
    "def print_order_statistics(order_statistics):\n",
    "     print(\"Order statistics\",'\\n' \"Total products ordered:\", order_statistics['Total products ordered'], '\\n' \"% of unique products ordered:\", order_statistics['Percentage of products ordered'],\"%\")"
   ]
  },
  {
   "cell_type": "code",
   "execution_count": 123,
   "id": "71416b4d-51bc-4f17-9dd7-78b2e1629721",
   "metadata": {
    "tags": []
   },
   "outputs": [
    {
     "name": "stdout",
     "output_type": "stream",
     "text": [
      "Order statistics \n",
      "Total products ordered: 3 \n",
      "% of unique products ordered: 9.38 %\n"
     ]
    }
   ],
   "source": [
    "print_order_statistics(order_statistics)"
   ]
  },
  {
   "cell_type": "code",
   "execution_count": 125,
   "id": "1e0ccd33-9dcc-4a42-a8a6-c161c5ed290a",
   "metadata": {
    "tags": []
   },
   "outputs": [
    {
     "data": {
      "text/plain": [
       "{'Total products ordered': 3, 'Percentage of products ordered': 9.38}"
      ]
     },
     "execution_count": 125,
     "metadata": {},
     "output_type": "execute_result"
    }
   ],
   "source": [
    "order_statistics"
   ]
  },
  {
   "cell_type": "code",
   "execution_count": 127,
   "id": "09ad8901-5970-4998-bb71-feb81f8cb739",
   "metadata": {
    "tags": []
   },
   "outputs": [],
   "source": [
    "def print_updated_inventory(inventory):\n",
    "    new_inventory = update_inventory(customer_orders, inventory)\n",
    "    print(new_inventory)"
   ]
  },
  {
   "cell_type": "code",
   "execution_count": 131,
   "id": "a139b5ac-8bd7-41fc-9bd4-ee4d42da68ba",
   "metadata": {
    "tags": []
   },
   "outputs": [
    {
     "name": "stdout",
     "output_type": "stream",
     "text": [
      "{'hat': 5, 'mug': 3, 'keychain': 4, 't-shirt': 8, 'book': 6}\n"
     ]
    }
   ],
   "source": [
    "print_updated_inventory(inventory)"
   ]
  },
  {
   "cell_type": "code",
   "execution_count": 151,
   "id": "56ca5f8b-c52b-48d7-a67f-99a3f7eb3b8f",
   "metadata": {
    "tags": []
   },
   "outputs": [
    {
     "name": "stdin",
     "output_type": "stream",
     "text": [
      "How many mugs do we have? 10\n",
      "How many keychains do we have? 10\n",
      "How many books do we have? 10\n",
      "How many t-shirts do we have? 10\n",
      "How many hats do we have? 10\n",
      "Which product would you like to order? hat\n",
      "Would you like to order another product? Yes/No yes\n",
      "Which product would you like to order? keychain\n",
      "Would you like to order another product? Yes/No yes\n",
      "Which product would you like to order? keychain\n",
      "Would you like to order another product? Yes/No no\n"
     ]
    },
    {
     "name": "stdout",
     "output_type": "stream",
     "text": [
      "Order statistics \n",
      "Total products ordered: 3 \n",
      "% of unique products ordered: 9.38 %\n",
      "{'mug': 10, 'keychain': 9, 'book': 10, 't-shirt': 10, 'hat': 9}\n"
     ]
    }
   ],
   "source": [
    "products = ['mug','keychain','book','t-shirt','hat']\n",
    "inventory = initialize_inventory(products)\n",
    "inventory\n",
    "customer_orders = get_customer_orders()\n",
    "customer_orders\n",
    "calculate_order_statistics(customer_orders, products)\n",
    "print_order_statistics(order_statistics)\n",
    "print_updated_inventory(inventory)"
   ]
  },
  {
   "cell_type": "code",
   "execution_count": null,
   "id": "f5f4b925-9489-4cec-9e16-2baad19b33e2",
   "metadata": {},
   "outputs": [],
   "source": []
  }
 ],
 "metadata": {
  "kernelspec": {
   "display_name": "Python 3 (ipykernel)",
   "language": "python",
   "name": "python3"
  },
  "language_info": {
   "codemirror_mode": {
    "name": "ipython",
    "version": 3
   },
   "file_extension": ".py",
   "mimetype": "text/x-python",
   "name": "python",
   "nbconvert_exporter": "python",
   "pygments_lexer": "ipython3",
   "version": "3.11.7"
  }
 },
 "nbformat": 4,
 "nbformat_minor": 5
}
